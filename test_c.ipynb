{
  "nbformat": 4,
  "nbformat_minor": 0,
  "metadata": {
    "colab": {
      "provenance": [],
      "authorship_tag": "ABX9TyPnhvwgcaah6+Z+18+c5pEA",
      "include_colab_link": true
    },
    "kernelspec": {
      "name": "python3",
      "display_name": "Python 3"
    },
    "language_info": {
      "name": "python"
    }
  },
  "cells": [
    {
      "cell_type": "markdown",
      "metadata": {
        "id": "view-in-github",
        "colab_type": "text"
      },
      "source": [
        "<a href=\"https://colab.research.google.com/github/Manal-L/test/blob/main/test_c.ipynb\" target=\"_parent\"><img src=\"https://colab.research.google.com/assets/colab-badge.svg\" alt=\"Open In Colab\"/></a>"
      ]
    },
    {
      "cell_type": "code",
      "execution_count": 3,
      "metadata": {
        "id": "hRkVSvUp4iuv"
      },
      "outputs": [],
      "source": [
        "# Créer et écrire dans classifier.py\n",
        "code_classifier = \"\"\"\n",
        "from sklearn.neighbors import KNeighborsClassifier\n",
        "from sklearn.datasets import load_iris\n",
        "from sklearn.model_selection import train_test_split\n",
        "\n",
        "def train_knn_classifier():\n",
        "    iris = load_iris()\n",
        "    X, y = iris.data, iris.target\n",
        "    X_train, X_test, y_train, y_test = train_test_split(X, y, test_size=0.2, random_state=42)\n",
        "    knn = KNeighborsClassifier(n_neighbors=3)\n",
        "    knn.fit(X_train, y_train)\n",
        "    score = knn.score(X_test, y_test)\n",
        "    return score\n",
        "\"\"\"\n",
        "\n",
        "# Écrire le code dans un fichier classifier.py\n",
        "with open('classifier.py', 'w') as f:\n",
        "    f.write(code_classifier)"
      ]
    },
    {
      "cell_type": "code",
      "source": [
        "# Créer et écrire dans test_classifier.py\n",
        "code_test = \"\"\"\n",
        "import unittest\n",
        "from classifier import train_knn_classifier\n",
        "\n",
        "class TestKNNClassifier(unittest.TestCase):\n",
        "\n",
        "    def test_accuracy(self):\n",
        "        accuracy = train_knn_classifier()\n",
        "        self.assertGreaterEqual(accuracy, 0.7, \"La précision du classificateur est inférieure à 0.7\")\n",
        "\n",
        "if __name__ == '__main__':\n",
        "    unittest.main()\n",
        "\"\"\"\n",
        "\n",
        "# Écrire le code dans un fichier test_classifier.py\n",
        "with open('test_classification.ipynb', 'w') as f:\n",
        "    f.write(code_test)\n"
      ],
      "metadata": {
        "id": "HrXSEjGw5uoZ"
      },
      "execution_count": 2,
      "outputs": []
    },
    {
      "cell_type": "code",
      "source": [
        "!cat test_classification.ipynb\n"
      ],
      "metadata": {
        "colab": {
          "base_uri": "https://localhost:8080/"
        },
        "id": "FfBIyyyO57pH",
        "outputId": "ffc84168-cbf3-4f0e-fff3-f67302f139aa"
      },
      "execution_count": 5,
      "outputs": [
        {
          "output_type": "stream",
          "name": "stdout",
          "text": [
            "\n",
            "import unittest\n",
            "from classifier import train_knn_classifier\n",
            "\n",
            "class TestKNNClassifier(unittest.TestCase):\n",
            "\n",
            "    def test_accuracy(self):\n",
            "        accuracy = train_knn_classifier()\n",
            "        self.assertGreaterEqual(accuracy, 0.7, \"La précision du classificateur est inférieure à 0.7\")\n",
            "\n",
            "if __name__ == '__main__':\n",
            "    unittest.main()\n"
          ]
        }
      ]
    },
    {
      "cell_type": "code",
      "source": [
        "!python -m unittest test_classification.ipynb\n"
      ],
      "metadata": {
        "colab": {
          "base_uri": "https://localhost:8080/"
        },
        "id": "hTCC5J1W6iw1",
        "outputId": "7a198fc8-cc2c-4033-ad72-ac3c75f19f47"
      },
      "execution_count": 6,
      "outputs": [
        {
          "output_type": "stream",
          "name": "stdout",
          "text": [
            "E\n",
            "======================================================================\n",
            "ERROR: test_classification (unittest.loader._FailedTest)\n",
            "----------------------------------------------------------------------\n",
            "ImportError: Failed to import test module: test_classification\n",
            "Traceback (most recent call last):\n",
            "  File \"/usr/lib/python3.10/unittest/loader.py\", line 154, in loadTestsFromName\n",
            "    module = __import__(module_name)\n",
            "ModuleNotFoundError: No module named 'test_classification'\n",
            "\n",
            "\n",
            "----------------------------------------------------------------------\n",
            "Ran 1 test in 0.000s\n",
            "\n",
            "FAILED (errors=1)\n"
          ]
        }
      ]
    }
  ]
}