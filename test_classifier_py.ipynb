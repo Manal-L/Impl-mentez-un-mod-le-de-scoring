{
  "nbformat": 4,
  "nbformat_minor": 0,
  "metadata": {
    "colab": {
      "provenance": [],
      "authorship_tag": "ABX9TyO7qvf9/iuiLDItx58AIiKR",
      "include_colab_link": true
    },
    "kernelspec": {
      "name": "python3",
      "display_name": "Python 3"
    },
    "language_info": {
      "name": "python"
    }
  },
  "cells": [
    {
      "cell_type": "markdown",
      "metadata": {
        "id": "view-in-github",
        "colab_type": "text"
      },
      "source": [
        "<a href=\"https://colab.research.google.com/github/Manal-L/test/blob/main/test_classifier_py.ipynb\" target=\"_parent\"><img src=\"https://colab.research.google.com/assets/colab-badge.svg\" alt=\"Open In Colab\"/></a>"
      ]
    },
    {
      "cell_type": "code",
      "source": [
        "! pip install classifier"
      ],
      "metadata": {
        "colab": {
          "base_uri": "https://localhost:8080/"
        },
        "id": "uI4rp8hM7jFt",
        "outputId": "857a26db-78d9-4f20-9921-4cdce18fb398"
      },
      "execution_count": 2,
      "outputs": [
        {
          "output_type": "stream",
          "name": "stdout",
          "text": [
            "Collecting classifier\n",
            "  Downloading classifier-2.0.tar.gz (4.3 kB)\n",
            "  Preparing metadata (setup.py) ... \u001b[?25l\u001b[?25hdone\n",
            "Collecting arrow (from classifier)\n",
            "  Downloading arrow-1.3.0-py3-none-any.whl.metadata (7.5 kB)\n",
            "Requirement already satisfied: python-dateutil>=2.7.0 in /usr/local/lib/python3.10/dist-packages (from arrow->classifier) (2.8.2)\n",
            "Collecting types-python-dateutil>=2.8.10 (from arrow->classifier)\n",
            "  Downloading types_python_dateutil-2.9.0.20240906-py3-none-any.whl.metadata (1.9 kB)\n",
            "Requirement already satisfied: six>=1.5 in /usr/local/lib/python3.10/dist-packages (from python-dateutil>=2.7.0->arrow->classifier) (1.16.0)\n",
            "Downloading arrow-1.3.0-py3-none-any.whl (66 kB)\n",
            "\u001b[2K   \u001b[90m━━━━━━━━━━━━━━━━━━━━━━━━━━━━━━━━━━━━━━━━\u001b[0m \u001b[32m66.4/66.4 kB\u001b[0m \u001b[31m1.1 MB/s\u001b[0m eta \u001b[36m0:00:00\u001b[0m\n",
            "\u001b[?25hDownloading types_python_dateutil-2.9.0.20240906-py3-none-any.whl (9.7 kB)\n",
            "Building wheels for collected packages: classifier\n",
            "  Building wheel for classifier (setup.py) ... \u001b[?25l\u001b[?25hdone\n",
            "  Created wheel for classifier: filename=classifier-2.0-py3-none-any.whl size=5031 sha256=c87077c896cf06c5da56b187ef936846c9778f0e6bcc149b934969391e65cd5d\n",
            "  Stored in directory: /root/.cache/pip/wheels/c4/e9/f7/a0f40cc27242c7c8ef198c37bc0461f7ac90102cdbb0df7999\n",
            "Successfully built classifier\n",
            "Installing collected packages: types-python-dateutil, arrow, classifier\n",
            "Successfully installed arrow-1.3.0 classifier-2.0 types-python-dateutil-2.9.0.20240906\n"
          ]
        }
      ]
    },
    {
      "cell_type": "code",
      "source": [
        "# test_classifier.py\n",
        "import unittest\n",
        "from classifier import train_knn_classifier\n",
        "\n",
        "class TestKNNClassifier(unittest.TestCase):\n",
        "\n",
        "    def test_accuracy(self):\n",
        "        accuracy = train_knn_classifier()\n",
        "        # On vérifie que la précision est supérieure à 0.7\n",
        "        self.assertGreaterEqual(accuracy, 0.7, \"La précision du classificateur est inférieure à 0.7\")\n",
        "\n",
        "if __name__ == '__main__':\n",
        "    unittest.main()"
      ],
      "metadata": {
        "id": "8rja3csg7eue"
      },
      "execution_count": null,
      "outputs": []
    }
  ]
}