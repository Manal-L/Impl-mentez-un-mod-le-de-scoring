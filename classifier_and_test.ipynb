{
  "nbformat": 4,
  "nbformat_minor": 0,
  "metadata": {
    "colab": {
      "provenance": [],
      "authorship_tag": "ABX9TyOf9XDKFe/WBnsxmOz1Xq9Z",
      "include_colab_link": true
    },
    "kernelspec": {
      "name": "python3",
      "display_name": "Python 3"
    },
    "language_info": {
      "name": "python"
    }
  },
  "cells": [
    {
      "cell_type": "markdown",
      "metadata": {
        "id": "view-in-github",
        "colab_type": "text"
      },
      "source": [
        "<a href=\"https://colab.research.google.com/github/Manal-L/test/blob/main/classifier_and_test.ipynb\" target=\"_parent\"><img src=\"https://colab.research.google.com/assets/colab-badge.svg\" alt=\"Open In Colab\"/></a>"
      ]
    },
    {
      "cell_type": "code",
      "execution_count": 7,
      "metadata": {
        "id": "hRkVSvUp4iuv"
      },
      "outputs": [],
      "source": [
        "# Créer et écrire dans classifier.py\n",
        "\n",
        "from sklearn.neighbors import KNeighborsClassifier\n",
        "from sklearn.datasets import load_iris\n",
        "from sklearn.model_selection import train_test_split\n",
        "\n",
        "def train_knn_classifier():\n",
        "    iris = load_iris()\n",
        "    X, y = iris.data, iris.target\n",
        "    X_train, X_test, y_train, y_test = train_test_split(X, y, test_size=0.2, random_state=42)\n",
        "    knn = KNeighborsClassifier(n_neighbors=3)\n",
        "    knn.fit(X_train, y_train)\n",
        "    score = knn.score(X_test, y_test)\n",
        "    return score\n"
      ]
    },
    {
      "cell_type": "code",
      "source": [
        "! pip install classifier"
      ],
      "metadata": {
        "colab": {
          "base_uri": "https://localhost:8080/"
        },
        "id": "M1DnIknY97Mz",
        "outputId": "dad811e9-da0d-472e-ccd6-a1dbc7430b74"
      },
      "execution_count": 8,
      "outputs": [
        {
          "output_type": "stream",
          "name": "stdout",
          "text": [
            "Collecting classifier\n",
            "  Downloading classifier-2.0.tar.gz (4.3 kB)\n",
            "  Preparing metadata (setup.py) ... \u001b[?25l\u001b[?25hdone\n",
            "Collecting arrow (from classifier)\n",
            "  Downloading arrow-1.3.0-py3-none-any.whl.metadata (7.5 kB)\n",
            "Requirement already satisfied: python-dateutil>=2.7.0 in /usr/local/lib/python3.10/dist-packages (from arrow->classifier) (2.8.2)\n",
            "Collecting types-python-dateutil>=2.8.10 (from arrow->classifier)\n",
            "  Downloading types_python_dateutil-2.9.0.20240906-py3-none-any.whl.metadata (1.9 kB)\n",
            "Requirement already satisfied: six>=1.5 in /usr/local/lib/python3.10/dist-packages (from python-dateutil>=2.7.0->arrow->classifier) (1.16.0)\n",
            "Downloading arrow-1.3.0-py3-none-any.whl (66 kB)\n",
            "\u001b[2K   \u001b[90m━━━━━━━━━━━━━━━━━━━━━━━━━━━━━━━━━━━━━━━━\u001b[0m \u001b[32m66.4/66.4 kB\u001b[0m \u001b[31m1.4 MB/s\u001b[0m eta \u001b[36m0:00:00\u001b[0m\n",
            "\u001b[?25hDownloading types_python_dateutil-2.9.0.20240906-py3-none-any.whl (9.7 kB)\n",
            "Building wheels for collected packages: classifier\n",
            "  Building wheel for classifier (setup.py) ... \u001b[?25l\u001b[?25hdone\n",
            "  Created wheel for classifier: filename=classifier-2.0-py3-none-any.whl size=5031 sha256=7eeeff92a31bcb4fd63ca4bf36ac5623412452797bbb115013785f3f73e14e33\n",
            "  Stored in directory: /root/.cache/pip/wheels/c4/e9/f7/a0f40cc27242c7c8ef198c37bc0461f7ac90102cdbb0df7999\n",
            "Successfully built classifier\n",
            "Installing collected packages: types-python-dateutil, arrow, classifier\n",
            "Successfully installed arrow-1.3.0 classifier-2.0 types-python-dateutil-2.9.0.20240906\n"
          ]
        }
      ]
    },
    {
      "cell_type": "code",
      "source": [
        "import unittest\n",
        "from classifier import train_knn_classifier\n",
        "\n",
        "class TestKNNClassifier(unittest.TestCase):\n",
        "\n",
        "    def test_accuracy(self):\n",
        "        accuracy = train_knn_classifier()\n",
        "        self.assertGreaterEqual(accuracy, 0.7, \"La précision du classificateur est inférieure à 0.7\")\n",
        "\n",
        "if __name__ == '__main__':\n",
        "    unittest.main(argv=[''], exit=False)  # argv=[''] pour éviter l'erreur d'argument dans Colab\n"
      ],
      "metadata": {
        "colab": {
          "base_uri": "https://localhost:8080/"
        },
        "id": "ISf-9N_d-AWz",
        "outputId": "a985dc36-1522-457d-99a6-3a30b9aa35dd"
      },
      "execution_count": 10,
      "outputs": [
        {
          "output_type": "stream",
          "name": "stderr",
          "text": [
            ".\n",
            "----------------------------------------------------------------------\n",
            "Ran 1 test in 0.044s\n",
            "\n",
            "OK\n"
          ]
        }
      ]
    }
  ]
}